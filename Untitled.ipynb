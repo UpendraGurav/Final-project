{
 "cells": [
  {
   "cell_type": "markdown",
   "id": "7cfc19bd-1506-471e-b2ea-a87b2c5b296c",
   "metadata": {},
   "source": [
    "# MATHS"
   ]
  },
  {
   "cell_type": "markdown",
   "id": "2a816e2f-5ab8-47cc-bfce-770d1ff21e12",
   "metadata": {},
   "source": [
    "**Prime Factorization** - Have the user enter a number and find all Prime Factors (if there are any) and display them."
   ]
  },
  {
   "cell_type": "code",
   "execution_count": 5,
   "id": "19f32ba3-71d0-4ae5-8880-0766e434e96d",
   "metadata": {},
   "outputs": [
    {
     "name": "stdin",
     "output_type": "stream",
     "text": [
      "Enter Number =  45\n"
     ]
    },
    {
     "name": "stdout",
     "output_type": "stream",
     "text": [
      "3,3,5,"
     ]
    }
   ],
   "source": [
    "# definng the functon for prime fator\n",
    "def prime_factor(num):\n",
    "    # storing num in temp variable\n",
    "    temp = num\n",
    "    # declaring i as 2 because first lowest factor is 2\n",
    "    i = 2\n",
    "    # while loop run till the temp is greater than 1\n",
    "    while temp > 1:\n",
    "        # giving condition for factorizing \n",
    "        if temp % i == 0:\n",
    "            print(i, end = \",\")\n",
    "            # after printing i than temp divides i and restore the value of temp\n",
    "            temp = int(temp/i)\n",
    "        # If if condition is false than else excutes and increase the value of i by 1\n",
    "        else:\n",
    "            i = i+1\n",
    "# taking user input\n",
    "num = int(input(\"Enter Number = \"))\n",
    "prime_factor(num)        "
   ]
  },
  {
   "cell_type": "markdown",
   "id": "327b64de-7556-4ca9-b33f-c0a86dd215a2",
   "metadata": {},
   "source": [
    "# Text"
   ]
  },
  {
   "cell_type": "markdown",
   "id": "a87fe802-150e-4e20-8e56-c8046c4e672f",
   "metadata": {},
   "source": [
    "**Fizz Buzz** - Write a program that prints the numbers from 1 to 100. But for multiples of three print “Fizz” instead of the number and for the multiples of five print “Buzz”. For numbers which are multiples of both three and five print “FizzBuzz”."
   ]
  },
  {
   "cell_type": "code",
   "execution_count": 11,
   "id": "5c9fe313-e96d-4007-8108-e6e792572f06",
   "metadata": {},
   "outputs": [
    {
     "name": "stdout",
     "output_type": "stream",
     "text": [
      "1\n",
      "2\n",
      "Fizz\n",
      "4\n",
      "Buzz\n",
      "Fizz\n",
      "7\n",
      "8\n",
      "Fizz\n",
      "Buzz\n",
      "11\n",
      "Fizz\n",
      "13\n",
      "14\n",
      "FizzBuzz\n",
      "16\n",
      "17\n",
      "Fizz\n",
      "19\n",
      "Buzz\n",
      "Fizz\n",
      "22\n",
      "23\n",
      "Fizz\n",
      "Buzz\n",
      "26\n",
      "Fizz\n",
      "28\n",
      "29\n",
      "FizzBuzz\n",
      "31\n",
      "32\n",
      "Fizz\n",
      "34\n",
      "Buzz\n",
      "Fizz\n",
      "37\n",
      "38\n",
      "Fizz\n",
      "Buzz\n",
      "41\n",
      "Fizz\n",
      "43\n",
      "44\n",
      "FizzBuzz\n",
      "46\n",
      "47\n",
      "Fizz\n",
      "49\n",
      "Buzz\n",
      "Fizz\n",
      "52\n",
      "53\n",
      "Fizz\n",
      "Buzz\n",
      "56\n",
      "Fizz\n",
      "58\n",
      "59\n",
      "FizzBuzz\n",
      "61\n",
      "62\n",
      "Fizz\n",
      "64\n",
      "Buzz\n",
      "Fizz\n",
      "67\n",
      "68\n",
      "Fizz\n",
      "Buzz\n",
      "71\n",
      "Fizz\n",
      "73\n",
      "74\n",
      "FizzBuzz\n",
      "76\n",
      "77\n",
      "Fizz\n",
      "79\n",
      "Buzz\n",
      "Fizz\n",
      "82\n",
      "83\n",
      "Fizz\n",
      "Buzz\n",
      "86\n",
      "Fizz\n",
      "88\n",
      "89\n",
      "FizzBuzz\n",
      "91\n",
      "92\n",
      "Fizz\n",
      "94\n",
      "Buzz\n",
      "Fizz\n",
      "97\n",
      "98\n",
      "Fizz\n",
      "Buzz\n"
     ]
    }
   ],
   "source": [
    "# taking range 1 to 100\n",
    "for i in range(1,101):\n",
    "    # condition for multiplication of 3 and 5\n",
    "    if i % 15 == 0:\n",
    "        print(\"FizzBuzz\")\n",
    "    # condition for multiplication of 3 \n",
    "    elif i % 3 == 0:\n",
    "        print(\"Fizz\")\n",
    "    # condition for multiplication of  5\n",
    "    elif i % 5 == 0:\n",
    "        print(\"Buzz\")\n",
    "    # if nothing \n",
    "    else:\n",
    "        print(i)\n",
    "    "
   ]
  },
  {
   "cell_type": "markdown",
   "id": "17d50c57-fb92-416b-b6d3-2241167a0c62",
   "metadata": {},
   "source": [
    "**Reverse a String** - Enter a string and the program will reverse it and print it out."
   ]
  },
  {
   "cell_type": "code",
   "execution_count": 15,
   "id": "fa9daa5d-42b8-4f69-b102-4cb336b282d4",
   "metadata": {},
   "outputs": [
    {
     "name": "stdout",
     "output_type": "stream",
     "text": [
      "dlroW olleH\n"
     ]
    }
   ],
   "source": [
    "# reversing string\n",
    "Str = \"Hello World\"\n",
    "print(Str[-1: :-1])"
   ]
  },
  {
   "cell_type": "markdown",
   "id": "27780d24-f3bb-4402-a93c-3f666f23d620",
   "metadata": {},
   "source": [
    "# Classic algorithms"
   ]
  },
  {
   "cell_type": "markdown",
   "id": "abcae076-60bf-47e7-b943-0fa18c4189a0",
   "metadata": {},
   "source": [
    "**Collatz Conjecture** - Start with a number *n > 1*. Find the number of steps it takes to reach one using the following process: If *n* is even, divide it by 2. If *n* is odd, multiply it by 3 and add 1."
   ]
  },
  {
   "cell_type": "code",
   "execution_count": 11,
   "id": "f1863fd0-07b3-405f-bb5f-8e8d29ea3379",
   "metadata": {},
   "outputs": [
    {
     "name": "stdout",
     "output_type": "stream",
     "text": [
      "Number taken is  6\n",
      "3\n",
      "10\n",
      "5\n",
      "16\n",
      "8\n",
      "4\n",
      "2\n",
      "1\n"
     ]
    }
   ],
   "source": [
    "n = 6\n",
    "print(\"Number taken is \",n)\n",
    "while n > 1:\n",
    "    # condition for even \n",
    "    if n % 2 == 0 :\n",
    "        n = n//2\n",
    "        print (n)\n",
    "    else:\n",
    "        # condition for odd\n",
    "        n = 3*n+1\n",
    "        print (n)"
   ]
  },
  {
   "cell_type": "code",
   "execution_count": null,
   "id": "967a03fc-a6f0-4fe1-8b43-3cf20b3851ee",
   "metadata": {},
   "outputs": [],
   "source": []
  },
  {
   "cell_type": "code",
   "execution_count": null,
   "id": "33ef6add-fa89-4b20-a349-579769ca0a22",
   "metadata": {},
   "outputs": [],
   "source": []
  }
 ],
 "metadata": {
  "kernelspec": {
   "display_name": "Python 3 (ipykernel)",
   "language": "python",
   "name": "python3"
  },
  "language_info": {
   "codemirror_mode": {
    "name": "ipython",
    "version": 3
   },
   "file_extension": ".py",
   "mimetype": "text/x-python",
   "name": "python",
   "nbconvert_exporter": "python",
   "pygments_lexer": "ipython3",
   "version": "3.9.7"
  }
 },
 "nbformat": 4,
 "nbformat_minor": 5
}
